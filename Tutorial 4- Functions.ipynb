{
 "cells": [
  {
   "cell_type": "code",
   "execution_count": 1,
   "metadata": {},
   "outputs": [
    {
     "name": "stdout",
     "output_type": "stream",
     "text": [
      "6\n"
     ]
    }
   ],
   "source": [
    "x=[1,2,3]\n",
    "print(sum(x))"
   ]
  },
  {
   "cell_type": "code",
   "execution_count": 2,
   "metadata": {},
   "outputs": [
    {
     "name": "stdout",
     "output_type": "stream",
     "text": [
      "total: 6\n"
     ]
    }
   ],
   "source": [
    "total=0\n",
    "for i in x:\n",
    "    total=total+i\n",
    "print(\"total:\",total)\n",
    "    "
   ]
  },
  {
   "cell_type": "markdown",
   "metadata": {},
   "source": [
    "## Functions\n",
    "- A function is a block of code which only runs when it is called.\n",
    "- You can pass data, known as parameters, into a function.\n",
    "- A function can return data as a result.\n",
    "##### From a function's perspective:\n",
    "- A parameter is the variable listed inside the parentheses in the function definition.\n",
    "- An argument is the value that is sent to the function when it is called.\n",
    "#### Types of arguments(args)\n",
    "  1. Positional arguments -order is  neccessary\n",
    "  2. Named arguments -order is not neccessary\n"
   ]
  },
  {
   "cell_type": "code",
   "execution_count": 3,
   "metadata": {},
   "outputs": [
    {
     "name": "stdout",
     "output_type": "stream",
     "text": [
      "(30, -10, 200, 0.5, 10)\n"
     ]
    }
   ],
   "source": [
    "def calculation(a,b):\n",
    "    sum=a+b\n",
    "    sub=a-b\n",
    "    mul=a*b\n",
    "    div=a/b\n",
    "    mod=a%b\n",
    "    #print(sum,sub,mul,div,mod)\n",
    "    return sum,sub,mul,div,mod  \n",
    "    \n",
    "result=calculation(10,20)   # positional arguments\n",
    "print(result)\n",
    " "
   ]
  },
  {
   "cell_type": "code",
   "execution_count": 4,
   "metadata": {},
   "outputs": [
    {
     "name": "stdout",
     "output_type": "stream",
     "text": [
      "30 10 200 2.0 0\n"
     ]
    }
   ],
   "source": [
    "def calculation(a,b):\n",
    "    sum=a+b\n",
    "    sub=a-b\n",
    "    mul=a*b\n",
    "    div=a/b\n",
    "    mod=a%b\n",
    "    print(sum,sub,mul,div,mod)\n",
    "    #return sum,sub,mul,div,mod  \n",
    "    \n",
    "result=calculation(b=10,a=20)   #  Named arguments\n"
   ]
  },
  {
   "cell_type": "markdown",
   "metadata": {},
   "source": [
    "### Global vs Local variables\n",
    "- local variable - can be defined and accessed only inside the function\n",
    "- Global variable -can be defined outside the function  and accessed anywhere of the program"
   ]
  },
  {
   "cell_type": "code",
   "execution_count": 5,
   "metadata": {},
   "outputs": [
    {
     "name": "stdout",
     "output_type": "stream",
     "text": [
      "Total ouside the function 6\n"
     ]
    }
   ],
   "source": [
    "#Example for local variable \n",
    "def calculate_total(exp):\n",
    "    total=0                   # defined inside the function\n",
    "    for item in exp:\n",
    "        total=total+item\n",
    "        return total\n",
    "    print(\"Total inside the function\",total)\n",
    "    \n",
    "my_exp=[1,2,3]\n",
    "Total=calculate_total(my_exp)\n",
    "print(\"Total ouside the function\",total)  # access the local variable \n",
    " "
   ]
  },
  {
   "cell_type": "markdown",
   "metadata": {},
   "source": [
    "Issue :\n",
    "The return statement is inside the for loop, which means it gets executed during the first iteration of the loop, and the function exits prematurely without summing up all the items in the list."
   ]
  },
  {
   "cell_type": "code",
   "execution_count": 6,
   "metadata": {},
   "outputs": [
    {
     "name": "stdout",
     "output_type": "stream",
     "text": [
      "Total ouside the function 6\n"
     ]
    }
   ],
   "source": [
    "#correct code :\n",
    "def calculate_total(exp):\n",
    "    total=0\n",
    "    for item in exp:\n",
    "        total=total+item\n",
    "    return total\n",
    "    print(\"Total inside the function\",total)\n",
    "    \n",
    "my_exp=[1,2,3]\n",
    "Total=calculate_total(my_exp)\n",
    "print(\"Total ouside the function\",total)"
   ]
  },
  {
   "cell_type": "code",
   "execution_count": 7,
   "metadata": {},
   "outputs": [
    {
     "name": "stdout",
     "output_type": "stream",
     "text": [
      "Total inside the function 6\n",
      "Total ouside the function 6\n"
     ]
    }
   ],
   "source": [
    "# correct code \n",
    "def calculate_total(exp):\n",
    "    total=0\n",
    "    for item in exp:\n",
    "        total=total+item\n",
    "    print(\"Total inside the function\",total)\n",
    "    return total\n",
    "my_exp=[1,2,3]\n",
    "Total=calculate_total(my_exp)\n",
    "print(\"Total ouside the function\",total)"
   ]
  },
  {
   "cell_type": "markdown",
   "metadata": {},
   "source": [
    "Explanation of Fix:\n",
    "Indentation of return: The return statement is moved outside the for loop to ensure the entire list is processed before returning the total.\n",
    "The print statement inside the function will now display the calculated total before returning it."
   ]
  },
  {
   "cell_type": "code",
   "execution_count": 8,
   "metadata": {},
   "outputs": [
    {
     "ename": "UnboundLocalError",
     "evalue": "local variable 'total' referenced before assignment",
     "output_type": "error",
     "traceback": [
      "\u001b[1;31m---------------------------------------------------------------------------\u001b[0m",
      "\u001b[1;31mUnboundLocalError\u001b[0m                         Traceback (most recent call last)",
      "\u001b[1;32m<ipython-input-8-2bf6c300c8bf>\u001b[0m in \u001b[0;36m<module>\u001b[1;34m\u001b[0m\n\u001b[0;32m      6\u001b[0m     \u001b[1;32mreturn\u001b[0m \u001b[0mtotal\u001b[0m\u001b[1;33m\u001b[0m\u001b[1;33m\u001b[0m\u001b[0m\n\u001b[0;32m      7\u001b[0m \u001b[0mmy_exp\u001b[0m\u001b[1;33m=\u001b[0m\u001b[1;33m[\u001b[0m\u001b[1;36m1\u001b[0m\u001b[1;33m,\u001b[0m\u001b[1;36m2\u001b[0m\u001b[1;33m,\u001b[0m\u001b[1;36m3\u001b[0m\u001b[1;33m]\u001b[0m\u001b[1;33m\u001b[0m\u001b[1;33m\u001b[0m\u001b[0m\n\u001b[1;32m----> 8\u001b[1;33m \u001b[0mTotal\u001b[0m\u001b[1;33m=\u001b[0m\u001b[0mcalculate_total\u001b[0m\u001b[1;33m(\u001b[0m\u001b[0mmy_exp\u001b[0m\u001b[1;33m)\u001b[0m\u001b[1;33m\u001b[0m\u001b[1;33m\u001b[0m\u001b[0m\n\u001b[0m\u001b[0;32m      9\u001b[0m \u001b[0mprint\u001b[0m\u001b[1;33m(\u001b[0m\u001b[1;34m\"Total ouside the function\"\u001b[0m\u001b[1;33m,\u001b[0m\u001b[0mtotal\u001b[0m\u001b[1;33m)\u001b[0m\u001b[1;33m\u001b[0m\u001b[1;33m\u001b[0m\u001b[0m\n",
      "\u001b[1;32m<ipython-input-8-2bf6c300c8bf>\u001b[0m in \u001b[0;36mcalculate_total\u001b[1;34m(exp)\u001b[0m\n\u001b[0;32m      2\u001b[0m \u001b[1;32mdef\u001b[0m \u001b[0mcalculate_total\u001b[0m\u001b[1;33m(\u001b[0m\u001b[0mexp\u001b[0m\u001b[1;33m)\u001b[0m\u001b[1;33m:\u001b[0m\u001b[1;33m\u001b[0m\u001b[1;33m\u001b[0m\u001b[0m\n\u001b[0;32m      3\u001b[0m     \u001b[1;32mfor\u001b[0m \u001b[0mitem\u001b[0m \u001b[1;32min\u001b[0m \u001b[0mexp\u001b[0m\u001b[1;33m:\u001b[0m\u001b[1;33m\u001b[0m\u001b[1;33m\u001b[0m\u001b[0m\n\u001b[1;32m----> 4\u001b[1;33m         \u001b[0mtotal\u001b[0m\u001b[1;33m=\u001b[0m\u001b[0mtotal\u001b[0m\u001b[1;33m+\u001b[0m\u001b[0mitem\u001b[0m\u001b[1;33m\u001b[0m\u001b[1;33m\u001b[0m\u001b[0m\n\u001b[0m\u001b[0;32m      5\u001b[0m     \u001b[0mprint\u001b[0m\u001b[1;33m(\u001b[0m\u001b[1;34m\"Total inside the function\"\u001b[0m\u001b[1;33m,\u001b[0m\u001b[0mtotal\u001b[0m\u001b[1;33m)\u001b[0m\u001b[1;33m\u001b[0m\u001b[1;33m\u001b[0m\u001b[0m\n\u001b[0;32m      6\u001b[0m     \u001b[1;32mreturn\u001b[0m \u001b[0mtotal\u001b[0m\u001b[1;33m\u001b[0m\u001b[1;33m\u001b[0m\u001b[0m\n",
      "\u001b[1;31mUnboundLocalError\u001b[0m: local variable 'total' referenced before assignment"
     ]
    }
   ],
   "source": [
    "total=0\n",
    "def calculate_total(exp):\n",
    "    for item in exp:\n",
    "        total=total+item\n",
    "    print(\"Total inside the function\",total)\n",
    "    return total\n",
    "my_exp=[1,2,3]\n",
    "Total=calculate_total(my_exp)\n",
    "print(\"Total ouside the function\",total)"
   ]
  },
  {
   "cell_type": "markdown",
   "metadata": {},
   "source": [
    "Issue : The variable total is defined outside the function but used and modified inside the function without being declared as a global variable. In Python, this causes a UnboundLocalError because the function tries to use the total variable before it is properly initialized within its local scope."
   ]
  },
  {
   "cell_type": "code",
   "execution_count": 9,
   "metadata": {},
   "outputs": [
    {
     "name": "stdout",
     "output_type": "stream",
     "text": [
      "Total inside the function 6\n",
      "Total outside the function 6\n"
     ]
    }
   ],
   "source": [
    "# correct code \n",
    "total = 0\n",
    "\n",
    "def calculate_total(exp):\n",
    "    global total  # Declare that we are using the global 'total'\n",
    "    for item in exp:\n",
    "        total = total + item\n",
    "    print(\"Total inside the function\", total)\n",
    "    return total\n",
    "\n",
    "my_exp = [1, 2, 3]\n",
    "Total = calculate_total(my_exp)\n",
    "print(\"Total outside the function\", total)"
   ]
  },
  {
   "cell_type": "markdown",
   "metadata": {},
   "source": [
    "Better Practice (Avoid Global Variables):\n",
    "Using global variables is not a recommended practice in most cases. Instead, you should handle the total variable locally within the function.This approach ensures the function operates independently of any external state, which is better for readability, debugging, and avoiding side effects."
   ]
  },
  {
   "cell_type": "code",
   "execution_count": 10,
   "metadata": {},
   "outputs": [
    {
     "ename": "TypeError",
     "evalue": "calculation() missing 1 required positional argument: 'b'",
     "output_type": "error",
     "traceback": [
      "\u001b[1;31m---------------------------------------------------------------------------\u001b[0m",
      "\u001b[1;31mTypeError\u001b[0m                                 Traceback (most recent call last)",
      "\u001b[1;32m<ipython-input-10-d3e5a3fb7811>\u001b[0m in \u001b[0;36m<module>\u001b[1;34m\u001b[0m\n\u001b[0;32m      9\u001b[0m     \u001b[1;32mreturn\u001b[0m \u001b[0msum\u001b[0m\u001b[1;33m,\u001b[0m\u001b[0msub\u001b[0m\u001b[1;33m,\u001b[0m\u001b[0mmul\u001b[0m\u001b[1;33m,\u001b[0m\u001b[0mdiv\u001b[0m\u001b[1;33m,\u001b[0m\u001b[0mmod\u001b[0m\u001b[1;33m\u001b[0m\u001b[1;33m\u001b[0m\u001b[0m\n\u001b[0;32m     10\u001b[0m \u001b[1;33m\u001b[0m\u001b[0m\n\u001b[1;32m---> 11\u001b[1;33m \u001b[0mresult\u001b[0m\u001b[1;33m=\u001b[0m\u001b[0mcalculation\u001b[0m\u001b[1;33m(\u001b[0m\u001b[1;36m10\u001b[0m\u001b[1;33m)\u001b[0m   \u001b[1;31m# positional arguments\u001b[0m\u001b[1;33m\u001b[0m\u001b[1;33m\u001b[0m\u001b[0m\n\u001b[0m\u001b[0;32m     12\u001b[0m \u001b[0mprint\u001b[0m\u001b[1;33m(\u001b[0m\u001b[0mresult\u001b[0m\u001b[1;33m)\u001b[0m\u001b[1;33m\u001b[0m\u001b[1;33m\u001b[0m\u001b[0m\n",
      "\u001b[1;31mTypeError\u001b[0m: calculation() missing 1 required positional argument: 'b'"
     ]
    }
   ],
   "source": [
    "### Default arguments\n",
    "def calculation(a,b):\n",
    "    sum=a+b\n",
    "    sub=a-b\n",
    "    mul=a*b\n",
    "    div=a/b\n",
    "    mod=a%b\n",
    "    #print(sum,sub,mul,div,mod)\n",
    "    return sum,sub,mul,div,mod  \n",
    "    \n",
    "result=calculation(10)   # positional arguments\n",
    "print(result)"
   ]
  },
  {
   "cell_type": "code",
   "execution_count": 11,
   "metadata": {},
   "outputs": [
    {
     "ename": "SyntaxError",
     "evalue": "invalid syntax (<ipython-input-11-0c2364711c32>, line 1)",
     "output_type": "error",
     "traceback": [
      "\u001b[1;36m  File \u001b[1;32m\"<ipython-input-11-0c2364711c32>\"\u001b[1;36m, line \u001b[1;32m1\u001b[0m\n\u001b[1;33m    Issue : argument is missing when the function is called.By default, a function must be called with the correct number of arguments. Meaning that if your function expects 2 arguments, you have to call the function with 2 arguments, not more, and not less.\u001b[0m\n\u001b[1;37m                                ^\u001b[0m\n\u001b[1;31mSyntaxError\u001b[0m\u001b[1;31m:\u001b[0m invalid syntax\n"
     ]
    }
   ],
   "source": [
    "Issue : argument is missing when the function is called.By default, a function must be called with the correct number of arguments. Meaning that if your function expects 2 arguments, you have to call the function with 2 arguments, not more, and not less."
   ]
  },
  {
   "cell_type": "code",
   "execution_count": 53,
   "metadata": {},
   "outputs": [
    {
     "name": "stdout",
     "output_type": "stream",
     "text": [
      "(10, 10)\n"
     ]
    }
   ],
   "source": [
    "# correct code \n",
    "def calculation(a,b=0):# assigning 0 for the argument that will not be passed \n",
    "    sum=a+b\n",
    "    sub=a-b\n",
    "    \n",
    "    #print(sum,sub,mul,div,mod)\n",
    "    return sum,sub \n",
    "    \n",
    "result=calculation(10)   # positional arguments\n",
    "print(result)"
   ]
  },
  {
   "cell_type": "code",
   "execution_count": 55,
   "metadata": {},
   "outputs": [
    {
     "name": "stdout",
     "output_type": "stream",
     "text": [
      "(15, 5)\n"
     ]
    }
   ],
   "source": [
    "# correct code \n",
    "def calculation(a,b=0):  # even  if you pass value, it will accept \n",
    "    sum=a+b\n",
    "    sub=a-b\n",
    "    \n",
    "    #print(sum,sub,mul,div,mod)\n",
    "    return sum,sub \n",
    "    \n",
    "result=calculation(10,5)   # positional arguments\n",
    "print(result)"
   ]
  },
  {
   "cell_type": "code",
   "execution_count": null,
   "metadata": {},
   "outputs": [],
   "source": [
    "### Documentation Strings - document what the function is for \n",
    "- within \"\"\" \"\"\" -multiline strings"
   ]
  },
  {
   "cell_type": "code",
   "execution_count": 59,
   "metadata": {},
   "outputs": [
    {
     "name": "stdout",
     "output_type": "stream",
     "text": [
      "(15, 5)\n"
     ]
    }
   ],
   "source": [
    "#Example for Documentation strings \n",
    "def calculation(a,b=0):  # even  if you pass value, it will accept \n",
    "   \"\"\"\n",
    "   This function takes two arguments and return addition and subtration of those two values \n",
    "   \"\"\" \n",
    "   sum=a+b\n",
    "   sub=a-b\n",
    "   return sum,sub \n",
    "    \n",
    "result=calculation(10,5)   # positional arguments\n",
    "print(result)"
   ]
  },
  {
   "cell_type": "code",
   "execution_count": null,
   "metadata": {},
   "outputs": [],
   "source": []
  }
 ],
 "metadata": {
  "kernelspec": {
   "display_name": "Python 3",
   "language": "python",
   "name": "python3"
  },
  "language_info": {
   "codemirror_mode": {
    "name": "ipython",
    "version": 3
   },
   "file_extension": ".py",
   "mimetype": "text/x-python",
   "name": "python",
   "nbconvert_exporter": "python",
   "pygments_lexer": "ipython3",
   "version": "3.8.5"
  }
 },
 "nbformat": 4,
 "nbformat_minor": 4
}
