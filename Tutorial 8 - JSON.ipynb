{
 "cells": [
  {
   "cell_type": "code",
   "execution_count": null,
   "metadata": {},
   "outputs": [],
   "source": [
    "## JSON concept/format\n",
    "\n",
    "-- JSON is a data decriptive format(usually the string with key and values) that is being supported by many languages such as java,c++,python\n",
    "-- Since its being data descritive , json file in one language can be read by another language\n",
    "-- JSON is a pre-built module in python \n",
    "\n"
   ]
  },
  {
   "cell_type": "markdown",
   "metadata": {},
   "source": [
    "#### 1.create a address book and write some records into it "
   ]
  },
  {
   "cell_type": "code",
   "execution_count": 13,
   "metadata": {},
   "outputs": [
    {
     "name": "stdout",
     "output_type": "stream",
     "text": [
      "Dictionary before JSON: {'priya': {'name': 'priya', 'address': 'peter street', 'phone': 2267584988}, 'siva': {'name': 'siva', 'address': 'sandwich street', 'phone': 688342903}}\n",
      "JSON format: {\"priya\": {\"name\": \"priya\", \"address\": \"peter street\", \"phone\": 2267584988}, \"siva\": {\"name\": \"siva\", \"address\": \"sandwich street\", \"phone\": 688342903}}\n",
      "file written successfully\n"
     ]
    }
   ],
   "source": [
    "\n",
    "book={}           # dictinary object is created\n",
    "book[\"priya\"]={\"name\":\"priya\",\"address\":\"peter street\", \"phone\":2267584988}\n",
    "book[\"siva\"]={\"name\":\"siva\",\"address\":\"sandwich street\", \"phone\":688342903}\n",
    "print(\"Dictionary before JSON:\",book)\n",
    "\n",
    "import json       #import json module \n",
    "s=json.dumps(book)  #dumps() function takes the dictionary object(book) and dumps as string(s stands for string) and then converted into JSON format\n",
    "print(\"JSON format:\",s)\n",
    "\n",
    "# write the JSON String into a file in the given directory\n",
    "with open (r\"D:\\DataScience2024\\file.json\",\"w\") as f:\n",
    "    f.write(s)\n",
    "print(\"file written successfully\")\n"
   ]
  },
  {
   "cell_type": "code",
   "execution_count": 21,
   "metadata": {},
   "outputs": [
    {
     "name": "stdout",
     "output_type": "stream",
     "text": [
      "Dictionary before JSON: {'Indian': {'name': 'Samaso', 'type': 'snacks'}, 'chinese': {'name': 'noodles', 'type': 'main'}}\n",
      "JSON format: {\"Indian\": {\"name\": \"Samaso\", \"type\": \"snacks\"}, \"chinese\": {\"name\": \"noodles\", \"type\": \"main\"}}\n",
      "file written successfully\n"
     ]
    }
   ],
   "source": [
    "food ={}           # dictinary object is created\n",
    "food[\"Indian\"]={\"name\":\"Samaso\",\"type\":\"snacks\"}\n",
    "food[\"chinese\"]={\"name\":\"noodles\",\"type\":\"main\"}\n",
    "print(\"Dictionary before JSON:\",food)\n",
    "\n",
    "import json       #import json module \n",
    "s=json.dumps(food)  #dumps() function takes the dictionary object(food) and dumps as string(s stands for string) and then converted into JSON format\n",
    "print(\"JSON format:\",s)\n",
    "\n",
    "# write the JSON String into a file in the given directory\n",
    "with open (r\"D:\\DataScience2024\\food.txt\",\"w\") as f:\n",
    "    f.write(s)\n",
    "print(\"file written successfully\")\n"
   ]
  },
  {
   "cell_type": "markdown",
   "metadata": {},
   "source": [
    "#### 2. Read the JSON file "
   ]
  },
  {
   "cell_type": "code",
   "execution_count": 28,
   "metadata": {},
   "outputs": [
    {
     "name": "stdout",
     "output_type": "stream",
     "text": [
      "JSON read string: {\"Indian\": {\"name\": \"Samaso\", \"type\": \"snacks\"}, \"chinese\": {\"name\": \"noodles\", \"type\": \"main\"}}\n",
      "<class 'str'>\n",
      "Read as dictionary: {'Indian': {'name': 'Samaso', 'type': 'snacks'}, 'chinese': {'name': 'noodles', 'type': 'main'}}\n",
      "<class 'dict'>\n"
     ]
    }
   ],
   "source": [
    "f=open(r\"D:\\DataScience2024\\food.txt\",\"r\")\n",
    "s=f.read()\n",
    "print(\"JSON read string:\",s)\n",
    "print(type(s))\n",
    "\n"
   ]
  },
  {
   "cell_type": "markdown",
   "metadata": {},
   "source": [
    "### 3.convert the json string back into dictionary"
   ]
  },
  {
   "cell_type": "code",
   "execution_count": null,
   "metadata": {},
   "outputs": [],
   "source": [
    "\n",
    "#import json   # no need as it was already imported in this program\n",
    "food =json.loads(s)  # loads() convert the json string back into dictinary\n",
    "print(\"Read as dictionary:\",food)\n",
    "print(type(food))"
   ]
  }
 ],
 "metadata": {
  "kernelspec": {
   "display_name": "Python 3",
   "language": "python",
   "name": "python3"
  },
  "language_info": {
   "codemirror_mode": {
    "name": "ipython",
    "version": 3
   },
   "file_extension": ".py",
   "mimetype": "text/x-python",
   "name": "python",
   "nbconvert_exporter": "python",
   "pygments_lexer": "ipython3",
   "version": "3.8.5"
  }
 },
 "nbformat": 4,
 "nbformat_minor": 4
}
