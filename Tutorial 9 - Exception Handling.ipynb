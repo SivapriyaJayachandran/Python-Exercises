{
 "cells": [
  {
   "cell_type": "markdown",
   "metadata": {},
   "source": [
    "## Exception Handling"
   ]
  },
  {
   "cell_type": "raw",
   "metadata": {},
   "source": [
    "\n",
    "- Exceptions are errors that are occured during the execution of a prgaram\n",
    "- Exception Handling is handling the unexpected exceptions  that may oocur \n",
    "- when compare exception handling with road clear concept \n",
    "   try:\n",
    "     while road_clear():\n",
    "       drive()\n",
    "   except accident as e\n",
    "       take_detour()"
   ]
  },
  {
   "cell_type": "code",
   "execution_count": 3,
   "metadata": {},
   "outputs": [
    {
     "name": "stdout",
     "output_type": "stream",
     "text": [
      "Enter input number1:10\n",
      "Enter input number2:20\n",
      "Divison is: 0.5\n"
     ]
    }
   ],
   "source": [
    "x=input(\"Enter input number1:\")\n",
    "y=input(\"Enter input number2:\")\n",
    "z=int(x)/int(y)\n",
    "print (\"Divison is:\",z )"
   ]
  },
  {
   "cell_type": "code",
   "execution_count": 5,
   "metadata": {},
   "outputs": [
    {
     "name": "stdout",
     "output_type": "stream",
     "text": [
      "Enter input number1:10\n",
      "Enter input number2:0\n"
     ]
    },
    {
     "ename": "ZeroDivisionError",
     "evalue": "division by zero",
     "output_type": "error",
     "traceback": [
      "\u001b[1;31m---------------------------------------------------------------------------\u001b[0m",
      "\u001b[1;31mZeroDivisionError\u001b[0m                         Traceback (most recent call last)",
      "\u001b[1;32m<ipython-input-5-5e6e14ab9414>\u001b[0m in \u001b[0;36m<module>\u001b[1;34m\u001b[0m\n\u001b[0;32m      2\u001b[0m \u001b[0mx\u001b[0m\u001b[1;33m=\u001b[0m\u001b[0minput\u001b[0m\u001b[1;33m(\u001b[0m\u001b[1;34m\"Enter input number1:\"\u001b[0m\u001b[1;33m)\u001b[0m\u001b[1;33m\u001b[0m\u001b[1;33m\u001b[0m\u001b[0m\n\u001b[0;32m      3\u001b[0m \u001b[0my\u001b[0m\u001b[1;33m=\u001b[0m\u001b[0minput\u001b[0m\u001b[1;33m(\u001b[0m\u001b[1;34m\"Enter input number2:\"\u001b[0m\u001b[1;33m)\u001b[0m\u001b[1;33m\u001b[0m\u001b[1;33m\u001b[0m\u001b[0m\n\u001b[1;32m----> 4\u001b[1;33m \u001b[0mz\u001b[0m\u001b[1;33m=\u001b[0m\u001b[0mint\u001b[0m\u001b[1;33m(\u001b[0m\u001b[0mx\u001b[0m\u001b[1;33m)\u001b[0m\u001b[1;33m/\u001b[0m\u001b[0mint\u001b[0m\u001b[1;33m(\u001b[0m\u001b[0my\u001b[0m\u001b[1;33m)\u001b[0m\u001b[1;33m\u001b[0m\u001b[1;33m\u001b[0m\u001b[0m\n\u001b[0m\u001b[0;32m      5\u001b[0m \u001b[0mprint\u001b[0m \u001b[1;33m(\u001b[0m\u001b[1;34m\"Divison is:\"\u001b[0m\u001b[1;33m,\u001b[0m\u001b[0mz\u001b[0m \u001b[1;33m)\u001b[0m\u001b[1;33m\u001b[0m\u001b[1;33m\u001b[0m\u001b[0m\n",
      "\u001b[1;31mZeroDivisionError\u001b[0m: division by zero"
     ]
    }
   ],
   "source": [
    "# Excpetion if the input is zero\n",
    "x=input(\"Enter input number1:\")\n",
    "y=input(\"Enter input number2:\")\n",
    "z=int(x)/int(y)\n",
    "print (\"Divison is:\",z )"
   ]
  },
  {
   "cell_type": "markdown",
   "metadata": {},
   "source": [
    "### Generic way of Handling an exception"
   ]
  },
  {
   "cell_type": "code",
   "execution_count": 13,
   "metadata": {},
   "outputs": [
    {
     "name": "stdout",
     "output_type": "stream",
     "text": [
      "Enter input number1:10\n",
      "Enter input number2:0\n",
      "Exception occured: division by zero\n",
      "Divison is: None\n"
     ]
    }
   ],
   "source": [
    "# Handling the Excpetion in General\n",
    "x=input(\"Enter input number1:\")\n",
    "y=input(\"Enter input number2:\")\n",
    "try :\n",
    "    z=int(x)/int(y)\n",
    "except Exception  as e :\n",
    "    print(\"Exception occured:\",e)\n",
    "print (\"Divison is:\",z )"
   ]
  },
  {
   "cell_type": "markdown",
   "metadata": {},
   "source": [
    "### Handling specific Exception\n",
    " - applies if you except specific kind of exception in your code "
   ]
  },
  {
   "cell_type": "code",
   "execution_count": 16,
   "metadata": {},
   "outputs": [
    {
     "name": "stdout",
     "output_type": "stream",
     "text": [
      "Enter input number1:10\n",
      "Enter input number2:0\n",
      "ZeroDivisionError occured\n",
      "Divison is: None\n"
     ]
    }
   ],
   "source": [
    "# Handling the Excpetion of ZeroDivisionError specifically\n",
    "x=input(\"Enter input number1:\")\n",
    "y=input(\"Enter input number2:\")\n",
    "try :\n",
    "    z=int(x)/int(y)\n",
    "except ZeroDivisionError as e :\n",
    "    print(\"ZeroDivisionError occured\")\n",
    "    z= None\n",
    "print (\"Divison is:\",z )"
   ]
  },
  {
   "cell_type": "code",
   "execution_count": 18,
   "metadata": {},
   "outputs": [
    {
     "name": "stdout",
     "output_type": "stream",
     "text": [
      "Enter input number1:10\n",
      "Enter input number2:12.3\n"
     ]
    },
    {
     "ename": "ValueError",
     "evalue": "invalid literal for int() with base 10: '12.3'",
     "output_type": "error",
     "traceback": [
      "\u001b[1;31m---------------------------------------------------------------------------\u001b[0m",
      "\u001b[1;31mValueError\u001b[0m                                Traceback (most recent call last)",
      "\u001b[1;32m<ipython-input-18-397f4c11dd11>\u001b[0m in \u001b[0;36m<module>\u001b[1;34m\u001b[0m\n\u001b[0;32m      2\u001b[0m \u001b[0mx\u001b[0m\u001b[1;33m=\u001b[0m\u001b[0minput\u001b[0m\u001b[1;33m(\u001b[0m\u001b[1;34m\"Enter input number1:\"\u001b[0m\u001b[1;33m)\u001b[0m\u001b[1;33m\u001b[0m\u001b[1;33m\u001b[0m\u001b[0m\n\u001b[0;32m      3\u001b[0m \u001b[0my\u001b[0m\u001b[1;33m=\u001b[0m\u001b[0minput\u001b[0m\u001b[1;33m(\u001b[0m\u001b[1;34m\"Enter input number2:\"\u001b[0m\u001b[1;33m)\u001b[0m\u001b[1;33m\u001b[0m\u001b[1;33m\u001b[0m\u001b[0m\n\u001b[1;32m----> 4\u001b[1;33m \u001b[0mz\u001b[0m\u001b[1;33m=\u001b[0m\u001b[0mint\u001b[0m\u001b[1;33m(\u001b[0m\u001b[0mx\u001b[0m\u001b[1;33m)\u001b[0m\u001b[1;33m/\u001b[0m\u001b[0mint\u001b[0m\u001b[1;33m(\u001b[0m\u001b[0my\u001b[0m\u001b[1;33m)\u001b[0m\u001b[1;33m\u001b[0m\u001b[1;33m\u001b[0m\u001b[0m\n\u001b[0m\u001b[0;32m      5\u001b[0m \u001b[0mprint\u001b[0m \u001b[1;33m(\u001b[0m\u001b[1;34m\"Divison is:\"\u001b[0m\u001b[1;33m,\u001b[0m\u001b[0mz\u001b[0m \u001b[1;33m)\u001b[0m\u001b[1;33m\u001b[0m\u001b[1;33m\u001b[0m\u001b[0m\n",
      "\u001b[1;31mValueError\u001b[0m: invalid literal for int() with base 10: '12.3'"
     ]
    }
   ],
   "source": [
    "# Excpetion if the input is zero\n",
    "x=input(\"Enter input number1:\")\n",
    "y=input(\"Enter input number2:\")\n",
    "z=int(x)/int(y)\n",
    "print (\"Divison is:\",z )"
   ]
  },
  {
   "cell_type": "markdown",
   "metadata": {},
   "source": [
    "### To find the specific error "
   ]
  },
  {
   "cell_type": "code",
   "execution_count": 25,
   "metadata": {},
   "outputs": [
    {
     "name": "stdout",
     "output_type": "stream",
     "text": [
      "Enter input number1:10\n",
      "Enter input number2:12.3\n",
      "Exception occured: ValueError\n"
     ]
    }
   ],
   "source": [
    "x=input(\"Enter input number1:\")\n",
    "y=input(\"Enter input number2:\")\n",
    "try :\n",
    "    z=int(x)/int(y)\n",
    "except Exception  as e :\n",
    "    print(\"Exception occured:\",type(e).__name__)\n",
    "   "
   ]
  },
  {
   "cell_type": "code",
   "execution_count": 26,
   "metadata": {},
   "outputs": [
    {
     "name": "stdout",
     "output_type": "stream",
     "text": [
      "Enter input number1: 10\n",
      "Enter input number2: 12.3\n",
      "ValueError occurred\n",
      "Division is: None\n"
     ]
    }
   ],
   "source": [
    "# Handling ValueError\n",
    "x = input(\"Enter input number1: \")\n",
    "y = input(\"Enter input number2: \")\n",
    "\n",
    "try:\n",
    "    z = int(x) / int(y)\n",
    "except ValueError as e:\n",
    "    print(\"ValueError occurred\")\n",
    "    z = None  # Define z to ensure it exists\n",
    "except ZeroDivisionError as e:\n",
    "    print(\"ZeroDivisionError occurred\")\n",
    "    z = None  # Define z for division by zero\n",
    "\n",
    "print(\"Division is:\", z)"
   ]
  },
  {
   "cell_type": "code",
   "execution_count": 27,
   "metadata": {},
   "outputs": [
    {
     "name": "stdout",
     "output_type": "stream",
     "text": [
      "Enter input number1: 10\n",
      "Enter input number2: 12\n"
     ]
    },
    {
     "ename": "TypeError",
     "evalue": "unsupported operand type(s) for /: 'str' and 'int'",
     "output_type": "error",
     "traceback": [
      "\u001b[1;31m---------------------------------------------------------------------------\u001b[0m",
      "\u001b[1;31mTypeError\u001b[0m                                 Traceback (most recent call last)",
      "\u001b[1;32m<ipython-input-27-aeefdc5270e3>\u001b[0m in \u001b[0;36m<module>\u001b[1;34m\u001b[0m\n\u001b[0;32m      4\u001b[0m \u001b[1;33m\u001b[0m\u001b[0m\n\u001b[0;32m      5\u001b[0m \u001b[1;32mtry\u001b[0m\u001b[1;33m:\u001b[0m\u001b[1;33m\u001b[0m\u001b[1;33m\u001b[0m\u001b[0m\n\u001b[1;32m----> 6\u001b[1;33m     \u001b[0mz\u001b[0m \u001b[1;33m=\u001b[0m \u001b[0mx\u001b[0m \u001b[1;33m/\u001b[0m \u001b[0mint\u001b[0m\u001b[1;33m(\u001b[0m\u001b[0my\u001b[0m\u001b[1;33m)\u001b[0m\u001b[1;33m\u001b[0m\u001b[1;33m\u001b[0m\u001b[0m\n\u001b[0m\u001b[0;32m      7\u001b[0m \u001b[1;32mexcept\u001b[0m \u001b[0mValueError\u001b[0m \u001b[1;32mas\u001b[0m \u001b[0me\u001b[0m\u001b[1;33m:\u001b[0m\u001b[1;33m\u001b[0m\u001b[1;33m\u001b[0m\u001b[0m\n\u001b[0;32m      8\u001b[0m     \u001b[0mprint\u001b[0m\u001b[1;33m(\u001b[0m\u001b[1;34m\"ValueError occurred\"\u001b[0m\u001b[1;33m)\u001b[0m\u001b[1;33m\u001b[0m\u001b[1;33m\u001b[0m\u001b[0m\n",
      "\u001b[1;31mTypeError\u001b[0m: unsupported operand type(s) for /: 'str' and 'int'"
     ]
    }
   ],
   "source": [
    "#Handling TypeError\n",
    "x = input(\"Enter input number1: \")\n",
    "y = input(\"Enter input number2: \")\n",
    "\n",
    "try:\n",
    "    z = x / int(y)\n",
    "except ValueError as e:\n",
    "    print(\"ValueError occurred\")\n",
    "    z = None  # Define z to ensure it exists\n",
    "except ZeroDivisionError as e:\n",
    "    print(\"ZeroDivisionError occurred\")\n",
    "    z = None  # Define z for division by zero\n",
    "\n",
    "print(\"Division is:\", z)"
   ]
  },
  {
   "cell_type": "raw",
   "metadata": {},
   "source": [
    "when the input is given from console, by default it is considered as string . so the divison operation cananot perform."
   ]
  },
  {
   "cell_type": "code",
   "execution_count": 30,
   "metadata": {},
   "outputs": [
    {
     "name": "stdout",
     "output_type": "stream",
     "text": [
      "Enter input number1: 10\n",
      "Enter input number2: 12\n",
      "TypeError Occured\n",
      "Division is: None\n"
     ]
    }
   ],
   "source": [
    "#Handling TypeError\n",
    "x = input(\"Enter input number1: \")\n",
    "y = input(\"Enter input number2: \")\n",
    "\n",
    "try:\n",
    "    z = x / int(y)\n",
    "except ValueError as e:\n",
    "    print(\"ValueError occurred\")\n",
    "    z = None  # Define z to ensure it exists\n",
    "except ZeroDivisionError as e:\n",
    "    print(\"ZeroDivisionError occurred\")\n",
    "    z = None  # Define z for division by zero\n",
    "except TypeError as e :\n",
    "    print(\"TypeError Occured\")\n",
    "\n",
    "print(\"Division is:\", z)"
   ]
  },
  {
   "cell_type": "code",
   "execution_count": 31,
   "metadata": {},
   "outputs": [
    {
     "name": "stdout",
     "output_type": "stream",
     "text": [
      "Enter input number1: 10\n",
      "Enter input number2: 30\n",
      "Division is: 0.3333333333333333\n"
     ]
    }
   ],
   "source": [
    "#Coorect code \n",
    "x = input(\"Enter input number1: \")\n",
    "y = input(\"Enter input number2: \")\n",
    "\n",
    "try:\n",
    "    z = int(x)/ int(y)\n",
    "except ValueError as e:\n",
    "    print(\"ValueError occurred\")\n",
    "    z = None  # Define z to ensure it exists\n",
    "except ZeroDivisionError as e:\n",
    "    print(\"ZeroDivisionError occurred\")\n",
    "    z = None  # Define z for division by zero\n",
    "except TypeError as e :\n",
    "    print(\"TypeError Occured\")\n",
    "\n",
    "print(\"Division is:\", z)"
   ]
  },
  {
   "cell_type": "code",
   "execution_count": null,
   "metadata": {},
   "outputs": [],
   "source": []
  }
 ],
 "metadata": {
  "kernelspec": {
   "display_name": "Python 3",
   "language": "python",
   "name": "python3"
  },
  "language_info": {
   "codemirror_mode": {
    "name": "ipython",
    "version": 3
   },
   "file_extension": ".py",
   "mimetype": "text/x-python",
   "name": "python",
   "nbconvert_exporter": "python",
   "pygments_lexer": "ipython3",
   "version": "3.8.5"
  }
 },
 "nbformat": 4,
 "nbformat_minor": 4
}
