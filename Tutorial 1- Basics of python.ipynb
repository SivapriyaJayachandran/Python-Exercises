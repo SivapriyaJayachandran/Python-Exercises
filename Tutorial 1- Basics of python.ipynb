{
 "cells": [
  {
   "cell_type": "markdown",
   "metadata": {},
   "source": [
    " Python is a case-sensitive language. It considers that uppercase and lowercase characters are different.\n",
    " Python relies on indentation (whitespace at the beginning of a line) to define scope in the code. other codes with indentation will raise an  error whereas If/NestedIf statement, without indentation will raise an error"
   ]
  },
  {
   "cell_type": "markdown",
   "metadata": {},
   "source": [
    "--trigger jupyetr notebook in anaconda prompt to set path for jupyter notebook\n",
    "(base) C:\\Users\\sivapriya>d:\n",
    "(base) D:\\> cd d:\\Data Science 2024\n",
    "(base) d:\\Data SCience 2024>jupyter notebook\n",
    "-- whenever a notebook created , a kernal(compiler) will also be created\n",
    "-always restart your kernal whenever you're struck with notebook or not working\n",
    "-- use # or ##  for singleline comments.use '''multiline strings''' and use - for bulleting \n",
    "--major 3 datatypes: Numbers(int), string(str-can be mentioned in single quotes or multiple quotes), floating\n",
    "Ex:10*'str'=strstrstrstrstrstrstrstrstrstr\n",
    "\n",
    "-- the python in-built function called type() is used to check the datattype of the variable \n",
    "-- we don't need to give particular datatype for variable assignment(variable_name=value) like other languages and can even change type after they have been set.. The compilet automattically undersatnds the datatype\n",
    "-- shift+tab gives all te details of the in-built function \n",
    "-- .format is used to print complex statments \n",
    "--len() used to count the characteres in a string\n"
   ]
  },
  {
   "cell_type": "markdown",
   "metadata": {},
   "source": [
    "## shortcuts\n",
    "--esc+E3a to add line above \n",
    "--esc+b to add line below\n",
    "--esc+M to change the current cell to Markdown\n",
    "--esc+Y to change it back to code\n",
    "--D + D (press the key twice) to delete the current cell\n",
    "--shift+enter to run current cell\n",
    "--ctrl+enter to run the selected cells"
   ]
  },
  {
   "cell_type": "markdown",
   "metadata": {},
   "source": [
    "# Basics of Python\n",
    "##  Data types\n",
    "- Numbers"
   ]
  },
  {
   "cell_type": "code",
   "execution_count": 39,
   "metadata": {},
   "outputs": [
    {
     "data": {
      "text/plain": [
       "3"
      ]
     },
     "execution_count": 39,
     "metadata": {},
     "output_type": "execute_result"
    }
   ],
   "source": [
    "2+1"
   ]
  },
  {
   "cell_type": "code",
   "execution_count": 40,
   "metadata": {},
   "outputs": [
    {
     "data": {
      "text/plain": [
       "1"
      ]
     },
     "execution_count": 40,
     "metadata": {},
     "output_type": "execute_result"
    }
   ],
   "source": [
    "2-1"
   ]
  },
  {
   "cell_type": "code",
   "execution_count": 41,
   "metadata": {},
   "outputs": [
    {
     "data": {
      "text/plain": [
       "4"
      ]
     },
     "execution_count": 41,
     "metadata": {},
     "output_type": "execute_result"
    }
   ],
   "source": [
    "2*2"
   ]
  },
  {
   "cell_type": "code",
   "execution_count": 42,
   "metadata": {},
   "outputs": [
    {
     "data": {
      "text/plain": [
       "1"
      ]
     },
     "execution_count": 42,
     "metadata": {},
     "output_type": "execute_result"
    }
   ],
   "source": [
    "10%3 ## 10 mod 3"
   ]
  },
  {
   "cell_type": "code",
   "execution_count": 43,
   "metadata": {},
   "outputs": [
    {
     "data": {
      "text/plain": [
       "100"
      ]
     },
     "execution_count": 43,
     "metadata": {},
     "output_type": "execute_result"
    }
   ],
   "source": [
    "10**2 ## 1o to the power of 2 "
   ]
  },
  {
   "cell_type": "markdown",
   "metadata": {},
   "source": [
    "- String"
   ]
  },
  {
   "cell_type": "code",
   "execution_count": 44,
   "metadata": {},
   "outputs": [
    {
     "data": {
      "text/plain": [
       "'Priya'"
      ]
     },
     "execution_count": 44,
     "metadata": {},
     "output_type": "execute_result"
    }
   ],
   "source": [
    "\"Priya\"\n"
   ]
  },
  {
   "cell_type": "code",
   "execution_count": 45,
   "metadata": {},
   "outputs": [
    {
     "data": {
      "text/plain": [
       "'Priya'"
      ]
     },
     "execution_count": 45,
     "metadata": {},
     "output_type": "execute_result"
    }
   ],
   "source": [
    "'Priya'"
   ]
  },
  {
   "cell_type": "code",
   "execution_count": 46,
   "metadata": {},
   "outputs": [
    {
     "data": {
      "text/plain": [
       "'priyapriyapriyapriyapriyapriyapriyapriyapriyapriya'"
      ]
     },
     "execution_count": 46,
     "metadata": {},
     "output_type": "execute_result"
    }
   ],
   "source": [
    "10*'priya'"
   ]
  },
  {
   "cell_type": "markdown",
   "metadata": {},
   "source": [
    "## check datatype"
   ]
  },
  {
   "cell_type": "code",
   "execution_count": 47,
   "metadata": {},
   "outputs": [
    {
     "data": {
      "text/plain": [
       "int"
      ]
     },
     "execution_count": 47,
     "metadata": {},
     "output_type": "execute_result"
    }
   ],
   "source": [
    "type(10)"
   ]
  },
  {
   "cell_type": "code",
   "execution_count": 48,
   "metadata": {},
   "outputs": [
    {
     "data": {
      "text/plain": [
       "str"
      ]
     },
     "execution_count": 48,
     "metadata": {},
     "output_type": "execute_result"
    }
   ],
   "source": [
    "type('priya')"
   ]
  },
  {
   "cell_type": "code",
   "execution_count": 58,
   "metadata": {},
   "outputs": [
    {
     "data": {
      "text/plain": [
       "list"
      ]
     },
     "execution_count": 58,
     "metadata": {},
     "output_type": "execute_result"
    }
   ],
   "source": [
    "type([1,2,3,4])"
   ]
  },
  {
   "cell_type": "markdown",
   "metadata": {},
   "source": [
    "## variable assignment \n",
    " -- no need to give datatype of the variable explicitly. compiler undersatnds the type of the variable based on the value automatically"
   ]
  },
  {
   "cell_type": "code",
   "execution_count": 49,
   "metadata": {},
   "outputs": [
    {
     "name": "stdout",
     "output_type": "stream",
     "text": [
      "15\n",
      "-5\n",
      "5\n"
     ]
    }
   ],
   "source": [
    "a= 5\n",
    "b=10\n",
    "print(a+b)\n",
    "print(a-b)\n",
    "print(a%b)"
   ]
  },
  {
   "cell_type": "markdown",
   "metadata": {},
   "source": [
    "## various ways of printing "
   ]
  },
  {
   "cell_type": "code",
   "execution_count": 50,
   "metadata": {},
   "outputs": [
    {
     "name": "stdout",
     "output_type": "stream",
     "text": [
      "Priya\n"
     ]
    }
   ],
   "source": [
    "print('Priya')"
   ]
  },
  {
   "cell_type": "code",
   "execution_count": 51,
   "metadata": {},
   "outputs": [
    {
     "name": "stdout",
     "output_type": "stream",
     "text": [
      "siva priya\n"
     ]
    }
   ],
   "source": [
    "fname ='siva'\n",
    "lname ='priya' \n",
    "print(fname,lname)"
   ]
  },
  {
   "cell_type": "code",
   "execution_count": 52,
   "metadata": {},
   "outputs": [
    {
     "name": "stdout",
     "output_type": "stream",
     "text": [
      "my first name is siva and my last name is priya\n"
     ]
    }
   ],
   "source": [
    "print('my first name is {} and my last name is {}'.format(fname,lname))"
   ]
  },
  {
   "cell_type": "code",
   "execution_count": 53,
   "metadata": {},
   "outputs": [
    {
     "name": "stdout",
     "output_type": "stream",
     "text": [
      "my first name is priya and my last name is siva\n"
     ]
    }
   ],
   "source": [
    "print('my first name is {} and my last name is {}'.format(lname,fname)) ## importance of order of the variables"
   ]
  },
  {
   "cell_type": "code",
   "execution_count": 54,
   "metadata": {},
   "outputs": [
    {
     "name": "stdout",
     "output_type": "stream",
     "text": [
      "my first name is siva and my last name is priya\n"
     ]
    }
   ],
   "source": [
    "print('my first name is {f} and my last name is {l}'.format(f=fname,l=lname))"
   ]
  },
  {
   "cell_type": "code",
   "execution_count": 55,
   "metadata": {},
   "outputs": [
    {
     "name": "stdout",
     "output_type": "stream",
     "text": [
      "my first name is siva and my last name is priya\n"
     ]
    }
   ],
   "source": [
    "print('my first name is {f} and my last name is {l}'.format(l=lname,f=fname)) ## variables will be assigned regardless of the passing order "
   ]
  },
  {
   "cell_type": "markdown",
   "metadata": {},
   "source": [
    "## find the length of the string"
   ]
  },
  {
   "cell_type": "code",
   "execution_count": 66,
   "metadata": {},
   "outputs": [
    {
     "data": {
      "text/plain": [
       "5"
      ]
     },
     "execution_count": 66,
     "metadata": {},
     "output_type": "execute_result"
    }
   ],
   "source": [
    "len('priya')"
   ]
  },
  {
   "cell_type": "code",
   "execution_count": null,
   "metadata": {},
   "outputs": [],
   "source": []
  }
 ],
 "metadata": {
  "kernelspec": {
   "display_name": "Python 3",
   "language": "python",
   "name": "python3"
  },
  "language_info": {
   "codemirror_mode": {
    "name": "ipython",
    "version": 3
   },
   "file_extension": ".py",
   "mimetype": "text/x-python",
   "name": "python",
   "nbconvert_exporter": "python",
   "pygments_lexer": "ipython3",
   "version": "3.8.5"
  }
 },
 "nbformat": 4,
 "nbformat_minor": 4
}
