{
 "cells": [
  {
   "cell_type": "markdown",
   "metadata": {
    "jupyter": {
     "source_hidden": true
    }
   },
   "source": [
    "### If statemnt - to check if a condition is true "
   ]
  },
  {
   "cell_type": "code",
   "execution_count": 14,
   "metadata": {},
   "outputs": [
    {
     "name": "stdin",
     "output_type": "stream",
     "text": [
      "Enter a number:  10\n"
     ]
    },
    {
     "name": "stdout",
     "output_type": "stream",
     "text": [
      "10  is a even number\n"
     ]
    }
   ],
   "source": [
    "# If statement - program to enter a number an dfind if  it's an even or odd numberB\n",
    "n=input(\"Enter a number: \") # consider the input as string \n",
    "n=int(n) #convert the string  input to integer to perform arithmetic operation\n",
    "if(n%2==0):\n",
    " print(n, \" is a even number\")\n",
    "#if(n%2!=0):\n",
    "else:\n",
    " print(\"It is not an odd number :\",n)"
   ]
  },
  {
   "cell_type": "markdown",
   "metadata": {},
   "source": [
    "### NestedIf - To test multiple conditions"
   ]
  },
  {
   "cell_type": "code",
   "execution_count": 21,
   "metadata": {},
   "outputs": [
    {
     "name": "stdin",
     "output_type": "stream",
     "text": [
      "Enter your favourite dish: burger\n"
     ]
    },
    {
     "name": "stdout",
     "output_type": "stream",
     "text": [
      "burger is not in my given cusine list\n"
     ]
    }
   ],
   "source": [
    "#Program to enter a dish name and fins what cuisne the dish is \n",
    "Indian =[\"rice\",\"daal\",\"naan\"]\n",
    "chinese=[\"noodles\",\"fried rice\",\"dumpling\", \"chicken soup\"]\n",
    "Italian=[\"pizza\", \"pasta\", \"rossotio\"]\n",
    "dish=input(\"Enter your favourite dish:\" )\n",
    "if dish in Indian:\n",
    "    print(\"It is an Indian cuisine\")\n",
    "elif dish in chinese:\n",
    "    print (\"It is an chines cuisine\")\n",
    "elif dish in Italian:\n",
    "    print(\"It is an Italian cuisine\")\n",
    "else:\n",
    "    print(dish,\"is not in my given cusine list\")"
   ]
  },
  {
   "cell_type": "code",
   "execution_count": 7,
   "metadata": {},
   "outputs": [
    {
     "name": "stdout",
     "output_type": "stream",
     "text": [
      "b is greater than a\n"
     ]
    }
   ],
   "source": [
    "\n",
    "a=10\n",
    "b=20\n",
    "if(a>b):\n",
    " print(\" a is greater than b\")\n",
    "elif(a<b):\n",
    " print(\"b is greater than a\")\n",
    "else :\n",
    " print(\" a and b are equal\")"
   ]
  },
  {
   "cell_type": "markdown",
   "metadata": {},
   "source": [
    "### While Statement\n",
    "- execute set of statements until the condition becomes true\n",
    "- while usually checks one condition\n",
    "- always give the incremental otherwise the loop will be infinitive"
   ]
  },
  {
   "cell_type": "code",
   "execution_count": 47,
   "metadata": {
    "jupyter": {
     "source_hidden": true
    }
   },
   "outputs": [
    {
     "name": "stdout",
     "output_type": "stream",
     "text": [
      "1\n",
      "2\n",
      "4\n",
      "5\n",
      "6\n",
      "7\n",
      "7 is not less than 6\n"
     ]
    }
   ],
   "source": [
    "#while loop \n",
    "i=0\n",
    "while i<=6:\n",
    " i+=1\n",
    " if(i==3): \n",
    "  continue   ## skip the value 3 and jumps back to the code\n",
    " print(i)\n",
    "else:\n",
    "    print(i, \"is not less than 6\")"
   ]
  },
  {
   "cell_type": "markdown",
   "metadata": {},
   "source": [
    "### for loop - used for iterating over a sequence (that is either a list, a tuple, a dictionary, a set, or a string).\n",
    "-- The for loop does not require an indexing variable to set beforehand."
   ]
  },
  {
   "cell_type": "code",
   "execution_count": 28,
   "metadata": {},
   "outputs": [
    {
     "name": "stdout",
     "output_type": "stream",
     "text": [
      "Car\n",
      "model\n",
      "year\n",
      "colors\n"
     ]
    }
   ],
   "source": [
    "\n",
    "mydict={\"Car\" : \"Honda\", \"model\" :\"Civic\",\"year\" :\"2000\",\"colors\":[\"red\",\"green\",\"black\",\"white\"]}\n",
    "for x in mydict:\n",
    " print(x)"
   ]
  },
  {
   "cell_type": "code",
   "execution_count": 19,
   "metadata": {},
   "outputs": [
    {
     "data": {
      "text/plain": [
       "dict_values(['Honda', 'Civic', '2000', ['red', 'green', 'black', 'white']])"
      ]
     },
     "execution_count": 19,
     "metadata": {},
     "output_type": "execute_result"
    }
   ],
   "source": [
    "mydict={\"Car\" : \"Honda\", \"model\" :\"Civic\",\"year\" :\"2000\",\"colors\":[\"red\",\"green\",\"black\",\"white\"]}\n",
    "mydict.values()"
   ]
  },
  {
   "cell_type": "code",
   "execution_count": 24,
   "metadata": {},
   "outputs": [
    {
     "name": "stdout",
     "output_type": "stream",
     "text": [
      "Total1 3550\n",
      "Total expenses 3550\n"
     ]
    }
   ],
   "source": [
    "#Problem :Store monthly expenses in a list and find total expenses for all months\n",
    "exp=[1200,1250,1100]\n",
    "total1=exp[0]+exp[1]+exp[2]\n",
    "print(\"Total1\",total1)\n",
    "total=0\n",
    "for item in exp:\n",
    "    total=total+item\n",
    "print(\"Total expenses\",total)\n"
   ]
  },
  {
   "cell_type": "markdown",
   "metadata": {},
   "source": [
    "### range() \n",
    "- The range() function returns a sequence of numbers, starting from 0 by default, and increments by 1 (by default), and ends at a specified number. \n",
    "- range(n) is the values of 0 to n-1\n",
    "- The range() function defaults to increment the sequence by 1, however it is possible to specify the increment value by adding a third parameter"
   ]
  },
  {
   "cell_type": "code",
   "execution_count": 29,
   "metadata": {},
   "outputs": [
    {
     "name": "stdout",
     "output_type": "stream",
     "text": [
      "0\n",
      "1\n",
      "2\n",
      "3\n",
      "4\n",
      "5\n"
     ]
    }
   ],
   "source": [
    "for x in range(6): #that range(6) is not the values of 0 to 6, but the values 0 to 5."
   ]
  },
  {
   "cell_type": "code",
   "execution_count": 1,
   "metadata": {},
   "outputs": [
    {
     "name": "stdout",
     "output_type": "stream",
     "text": [
      "1\n",
      "4\n",
      "9\n",
      "16\n",
      "25\n",
      "36\n",
      "49\n",
      "64\n",
      "81\n",
      "100\n"
     ]
    }
   ],
   "source": [
    "##problem: print squares 1 to 10\n",
    "for x in range(1,11):\n",
    " print(x*x)\n",
    "\n"
   ]
  },
  {
   "cell_type": "markdown",
   "metadata": {},
   "source": []
  },
  {
   "cell_type": "code",
   "execution_count": 33,
   "metadata": {},
   "outputs": [
    {
     "name": "stdout",
     "output_type": "stream",
     "text": [
      "2\n",
      "3\n",
      "4\n",
      "5\n"
     ]
    }
   ],
   "source": [
    "for x in range(2,6):\n",
    " print(x)"
   ]
  },
  {
   "cell_type": "code",
   "execution_count": 4,
   "metadata": {},
   "outputs": [
    {
     "name": "stdout",
     "output_type": "stream",
     "text": [
      "2\n",
      "4\n"
     ]
    }
   ],
   "source": [
    "for x in range(2,6,2):   ## increment the range of 0to 5  by 2(3rd parameter)\n",
    " print(x)"
   ]
  },
  {
   "cell_type": "code",
   "execution_count": 12,
   "metadata": {},
   "outputs": [
    {
     "name": "stdout",
     "output_type": "stream",
     "text": [
      "Month 1 : 1200\n",
      "Month 2 : 1250\n",
      "Month 3 : 1100\n",
      "3550\n"
     ]
    }
   ],
   "source": [
    "#Problem: print  month number with  expense and show total expense at the end \n",
    "exp=[1200,1250,1100]\n",
    "total=0\n",
    "for i in range (len(exp)):\n",
    "    print(\"Month\",i+1,\":\",exp[i])\n",
    "    total=total+exp[i]\n",
    "print(total)"
   ]
  },
  {
   "cell_type": "markdown",
   "metadata": {},
   "source": [
    "#### Break \n",
    "-- The code or program will exit once the break condition(usuall will be goal of the program) is acheived\n",
    "-- It is helpful to reduce the burden of the program. Thus, saves execution time if itsa larger program "
   ]
  },
  {
   "cell_type": "code",
   "execution_count": 2,
   "metadata": {},
   "outputs": [
    {
     "name": "stdout",
     "output_type": "stream",
     "text": [
      "key is not found in bedroom\n",
      "key is not found in kitchen\n",
      "key is found in chair\n"
     ]
    }
   ],
   "source": [
    "## Example for break \n",
    "my_loc=[\"bedroom\",\"kitchen\",\"chair\",\"sofa\"]\n",
    "key_location=\"chair\"\n",
    "for x in my_loc:\n",
    "  if x==key_location:\n",
    "    print(\"key is found in\",x)\n",
    "    break\n",
    "  else :\n",
    "   print(\"key is not found in\",x)"
   ]
  },
  {
   "cell_type": "markdown",
   "metadata": {},
   "source": [
    "#### Continue \n",
    "-- The code will skip the  continue condition \n",
    "-- It is helpful to reduce the burden of the program. Thus, saves execution time if itsa larger program"
   ]
  },
  {
   "cell_type": "code",
   "execution_count": 36,
   "metadata": {},
   "outputs": [
    {
     "name": "stdout",
     "output_type": "stream",
     "text": [
      "square of 1 is 1\n",
      "square of 3 is 9\n",
      "square of 5 is 25\n",
      "square of 7 is 49\n",
      "square of 9 is 81\n"
     ]
    }
   ],
   "source": [
    "## Example for continue\n",
    "## Calculate the squares of 1 to 10 except the even numbers\n",
    "for x in range(1,11):\n",
    "    if x%2==0:\n",
    "        continue\n",
    "    print( \"square of\",x ,\"is\",x*x )\n"
   ]
  },
  {
   "cell_type": "markdown",
   "metadata": {},
   "source": [
    "### NestedFor loops "
   ]
  },
  {
   "cell_type": "code",
   "execution_count": 33,
   "metadata": {},
   "outputs": [
    {
     "name": "stdout",
     "output_type": "stream",
     "text": [
      "s p\n",
      "s r\n",
      "s i\n",
      "s y\n",
      "s a\n",
      "i p\n",
      "i r\n",
      "i i\n",
      "i y\n",
      "i a\n",
      "v p\n",
      "v r\n",
      "v i\n",
      "v y\n",
      "v a\n",
      "a p\n",
      "a r\n",
      "a i\n",
      "a y\n",
      "a a\n"
     ]
    }
   ],
   "source": [
    "fname=\"siva\"\n",
    "lname=\"priya\"\n",
    "for x in fname:\n",
    " for y in lname:\n",
    "  print(x,y)"
   ]
  },
  {
   "cell_type": "code",
   "execution_count": 8,
   "metadata": {},
   "outputs": [
    {
     "data": {
      "text/plain": [
       "26"
      ]
     },
     "execution_count": 8,
     "metadata": {},
     "output_type": "execute_result"
    }
   ],
   "source": [
    "x=[1,2,3,4]\n",
    "sum(x)\n",
    "y=[5,6,7,8]\n",
    "sum(y)\n"
   ]
  },
  {
   "cell_type": "code",
   "execution_count": 38,
   "metadata": {},
   "outputs": [
    {
     "name": "stdout",
     "output_type": "stream",
     "text": [
      "10\n",
      "18\n"
     ]
    }
   ],
   "source": [
    "\n",
    "list1=[1,2,3,4]\n",
    "list2=[5,6,7,8]\n",
    "total=0\n",
    "total1=0\n",
    "for x in list1:\n",
    " total=total+x\n",
    "for x in list2:\n",
    "    total1=total+x\n",
    "print(total)\n",
    "print(total1)"
   ]
  },
  {
   "cell_type": "code",
   "execution_count": null,
   "metadata": {},
   "outputs": [],
   "source": []
  }
 ],
 "metadata": {
  "kernelspec": {
   "display_name": "Python 3",
   "language": "python",
   "name": "python3"
  },
  "language_info": {
   "codemirror_mode": {
    "name": "ipython",
    "version": 3
   },
   "file_extension": ".py",
   "mimetype": "text/x-python",
   "name": "python",
   "nbconvert_exporter": "python",
   "pygments_lexer": "ipython3",
   "version": "3.8.5"
  }
 },
 "nbformat": 4,
 "nbformat_minor": 4
}
