{
 "cells": [
  {
   "cell_type": "markdown",
   "metadata": {},
   "source": [
    "**1. Create a variable called break and assign it a value 5. See what happens and find out the reason behind the behavior that you see**"
   ]
  },
  {
   "cell_type": "code",
   "execution_count": null,
   "metadata": {},
   "outputs": [],
   "source": [
    "break=5"
   ]
  },
  {
   "cell_type": "raw",
   "metadata": {},
   "source": [
    "The error occurs because break is a reserved keyword in Python and cannot be used as a variable name. Reserved keywords have specific functions in Python and are not allowed to be redefined."
   ]
  },
  {
   "cell_type": "markdown",
   "metadata": {},
   "source": [
    "**2. Create two variables. One to store your birth year and another one to store current year. Now calculate your age using these two variables**"
   ]
  },
  {
   "cell_type": "code",
   "execution_count": 4,
   "metadata": {
    "scrolled": true
   },
   "outputs": [
    {
     "data": {
      "text/plain": [
       "34"
      ]
     },
     "execution_count": 4,
     "metadata": {},
     "output_type": "execute_result"
    }
   ],
   "source": [
    "birth_year=1988\n",
    "current_year=2022\n",
    "age=current_year-birth_year\n",
    "age"
   ]
  },
  {
   "cell_type": "markdown",
   "metadata": {},
   "source": [
    "**3. Store your first, middle and last name in three different variables and then print your full name using these variables**"
   ]
  },
  {
   "cell_type": "code",
   "execution_count": 3,
   "metadata": {},
   "outputs": [
    {
     "name": "stdout",
     "output_type": "stream",
     "text": [
      "My full name is: Siva Priya Ramsay\n"
     ]
    }
   ],
   "source": [
    "first=\"Siva\"\n",
    "middle=\"Priya\"\n",
    "last=\"Ramsay\"\n",
    "print(\"My full name is: \" + first + \" \" + middle + \" \" + last)"
   ]
  },
  {
   "cell_type": "markdown",
   "metadata": {},
   "source": [
    "**4. Answer which of these are invalid variable names: \"\\_nation, 1record, record1, record\\_one, record-one, record^one, continue\"**"
   ]
  },
  {
   "cell_type": "markdown",
   "metadata": {},
   "source": [
    "1. _nation: Valid- Variable names can start with an underscore (_) or a letter. This is a valid variable name.\n",
    "2. 1record: Invalid- Variable names cannot start with a number. This is not valid.\n",
    "3. record1: Valid -  This starts with a letter and contains no illegal characters. It's a valid name.\n",
    "4. record_one: Valid-  Underscores are allowed, and the name starts with a letter. This is valid.\n",
    "5. record-one: Invalid - Hyphens (-) are not allowed in variable names as they are interpreted as a subtraction operator.\n",
    "6. record^one: Invalid - The caret (^) is not a valid character for variable names.\n",
    "7. continue: Invalid - continue is a reserved keyword in Python, so it cannot be used as a variable name.\n",
    "\n",
    "- Summary:\n",
    "     -  Invalid variable names: 1record, record-one, record^one, continue\n",
    "     -  Valid variable names: _nation, record1, record_one"
   ]
  },
  {
   "cell_type": "code",
   "execution_count": null,
   "metadata": {},
   "outputs": [],
   "source": []
  }
 ],
 "metadata": {
  "kernelspec": {
   "display_name": "Python 3",
   "language": "python",
   "name": "python3"
  },
  "language_info": {
   "codemirror_mode": {
    "name": "ipython",
    "version": 3
   },
   "file_extension": ".py",
   "mimetype": "text/x-python",
   "name": "python",
   "nbconvert_exporter": "python",
   "pygments_lexer": "ipython3",
   "version": "3.8.5"
  }
 },
 "nbformat": 4,
 "nbformat_minor": 2
}
